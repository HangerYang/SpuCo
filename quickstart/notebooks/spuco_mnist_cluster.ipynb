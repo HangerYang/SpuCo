{
 "cells": [
  {
   "cell_type": "code",
   "execution_count": 1,
   "metadata": {},
   "outputs": [
    {
     "name": "stdout",
     "output_type": "stream",
     "text": [
      "Processing /home/hyang/SpuCo\n",
      "  Installing build dependencies ... \u001b[?25ldone\n",
      "\u001b[?25h  Getting requirements to build wheel ... \u001b[?25ldone\n",
      "\u001b[?25h  Installing backend dependencies ... \u001b[?25ldone\n",
      "\u001b[?25h    Preparing wheel metadata ... \u001b[?25ldone\n",
      "\u001b[?25h\u001b[31mERROR: Package 'spuco' requires a different Python: 3.8.5 not in '>=3.10.0'\u001b[0m\n",
      "Note: you may need to restart the kernel to use updated packages.\n"
     ]
    }
   ],
   "source": [
    "%pip install ../../"
   ]
  },
  {
   "cell_type": "code",
   "execution_count": 2,
   "metadata": {},
   "outputs": [],
   "source": [
    "import torch \n",
    "\n",
    "device = torch.device(\"cuda:7\")"
   ]
  },
  {
   "cell_type": "code",
   "execution_count": 3,
   "metadata": {},
   "outputs": [
    {
     "ename": "ModuleNotFoundError",
     "evalue": "No module named 'spuco'",
     "output_type": "error",
     "traceback": [
      "\u001b[0;31m---------------------------------------------------------------------------\u001b[0m",
      "\u001b[0;31mModuleNotFoundError\u001b[0m                       Traceback (most recent call last)",
      "\u001b[0;32m/tmp/ipykernel_1861957/3742164471.py\u001b[0m in \u001b[0;36m<module>\u001b[0;34m\u001b[0m\n\u001b[0;32m----> 1\u001b[0;31m \u001b[0;32mfrom\u001b[0m \u001b[0mspuco\u001b[0m\u001b[0;34m.\u001b[0m\u001b[0mdatasets\u001b[0m \u001b[0;32mimport\u001b[0m \u001b[0mSpuCoMNIST\u001b[0m\u001b[0;34m,\u001b[0m \u001b[0mSpuriousFeatureDifficulty\u001b[0m\u001b[0;34m\u001b[0m\u001b[0;34m\u001b[0m\u001b[0m\n\u001b[0m\u001b[1;32m      2\u001b[0m \u001b[0;32mimport\u001b[0m \u001b[0mtorchvision\u001b[0m\u001b[0;34m.\u001b[0m\u001b[0mtransforms\u001b[0m \u001b[0;32mas\u001b[0m \u001b[0mT\u001b[0m\u001b[0;34m\u001b[0m\u001b[0;34m\u001b[0m\u001b[0m\n\u001b[1;32m      3\u001b[0m \u001b[0;34m\u001b[0m\u001b[0m\n\u001b[1;32m      4\u001b[0m \u001b[0mclasses\u001b[0m \u001b[0;34m=\u001b[0m \u001b[0;34m[\u001b[0m\u001b[0;34m[\u001b[0m\u001b[0;36m0\u001b[0m\u001b[0;34m,\u001b[0m \u001b[0;36m1\u001b[0m\u001b[0;34m]\u001b[0m\u001b[0;34m,\u001b[0m \u001b[0;34m[\u001b[0m\u001b[0;36m2\u001b[0m\u001b[0;34m,\u001b[0m \u001b[0;36m3\u001b[0m\u001b[0;34m]\u001b[0m\u001b[0;34m,\u001b[0m \u001b[0;34m[\u001b[0m\u001b[0;36m4\u001b[0m\u001b[0;34m,\u001b[0m \u001b[0;36m5\u001b[0m\u001b[0;34m]\u001b[0m\u001b[0;34m,\u001b[0m \u001b[0;34m[\u001b[0m\u001b[0;36m6\u001b[0m\u001b[0;34m,\u001b[0m \u001b[0;36m7\u001b[0m\u001b[0;34m]\u001b[0m\u001b[0;34m,\u001b[0m \u001b[0;34m[\u001b[0m\u001b[0;36m8\u001b[0m\u001b[0;34m,\u001b[0m \u001b[0;36m9\u001b[0m\u001b[0;34m]\u001b[0m\u001b[0;34m]\u001b[0m\u001b[0;34m\u001b[0m\u001b[0;34m\u001b[0m\u001b[0m\n\u001b[1;32m      5\u001b[0m \u001b[0mdifficulty\u001b[0m \u001b[0;34m=\u001b[0m \u001b[0mSpuriousFeatureDifficulty\u001b[0m\u001b[0;34m.\u001b[0m\u001b[0mMAGNITUDE_EASY\u001b[0m\u001b[0;34m\u001b[0m\u001b[0;34m\u001b[0m\u001b[0m\n",
      "\u001b[0;31mModuleNotFoundError\u001b[0m: No module named 'spuco'"
     ]
    }
   ],
   "source": [
    "from spuco.datasets import SpuCoMNIST, SpuriousFeatureDifficulty\n",
    "import torchvision.transforms as T\n",
    "\n",
    "classes = [[0, 1], [2, 3], [4, 5], [6, 7], [8, 9]]\n",
    "difficulty = SpuriousFeatureDifficulty.MAGNITUDE_EASY\n",
    "\n",
    "trainset = SpuCoMNIST(\n",
    "    root=\"/data/mnist/\",\n",
    "    spurious_feature_difficulty=difficulty,\n",
    "    spurious_correlation_strength=0.995,\n",
    "    classes=classes,\n",
    "    split=\"train\"\n",
    ")\n",
    "trainset.initialize()\n",
    "\n",
    "testset = SpuCoMNIST(\n",
    "    root=\"/data/mnist/\",\n",
    "    spurious_feature_difficulty=difficulty,\n",
    "    classes=classes,\n",
    "    split=\"test\"\n",
    ")\n",
    "testset.initialize()"
   ]
  },
  {
   "cell_type": "code",
   "execution_count": 18,
   "metadata": {},
   "outputs": [
    {
     "data": {
      "image/png": "[encoded data removed]",
      "text/plain": [
       "<PIL.Image.Image image mode=RGB size=28x28>"
      ]
     },
     "execution_count": 18,
     "metadata": {},
     "output_type": "execute_result"
    }
   ],
   "source": [
    "T.ToPILImage()(trainset[1000][0]).resize((28,28))"
   ]
  },
  {
   "cell_type": "code",
   "execution_count": 19,
   "metadata": {},
   "outputs": [
    {
     "name": "stderr",
     "output_type": "stream",
     "text": [
      "Epoch 0: 100%|██████████| 938/938 [00:03<00:00, 257.54batch/s, accuracy=96.875%, loss=0.207]  \n"
     ]
    }
   ],
   "source": [
    "from spuco.models import model_factory \n",
    "from spuco.utils import Trainer\n",
    "from torch.optim import SGD\n",
    "\n",
    "model = model_factory(\"lenet\", trainset[0][0].shape, trainset.num_classes).to(device)\n",
    "trainer = Trainer(\n",
    "    trainset=trainset,\n",
    "    model=model,\n",
    "    batch_size=64,\n",
    "    optimizer=SGD(model.parameters(), lr=1e-3, weight_decay=5e-4, momentum=0.9, nesterov=True),\n",
    "    device=device,\n",
    "    verbose=True\n",
    ")\n",
    "\n",
    "trainer.train(1)"
   ]
  },
  {
   "cell_type": "code",
   "execution_count": 22,
   "metadata": {},
   "outputs": [
    {
     "name": "stdout",
     "output_type": "stream",
     "text": [
      "Group (0, 0) Test Accuracy: 100.0\n",
      "Group (0, 1) Test Accuracy: 0.0\n",
      "Group (0, 2) Test Accuracy: 0.0\n",
      "Group (0, 3) Test Accuracy: 0.0\n",
      "Group (0, 4) Test Accuracy: 0.0\n",
      "Group (1, 0) Test Accuracy: 0.0\n",
      "Group (1, 1) Test Accuracy: 100.0\n",
      "Group (1, 2) Test Accuracy: 0.0\n",
      "Group (1, 3) Test Accuracy: 0.0\n",
      "Group (1, 4) Test Accuracy: 0.0\n",
      "Group (2, 0) Test Accuracy: 0.0\n",
      "Group (2, 1) Test Accuracy: 0.0\n",
      "Group (2, 2) Test Accuracy: 100.0\n",
      "Group (2, 3) Test Accuracy: 0.0\n",
      "Group (2, 4) Test Accuracy: 0.0\n",
      "Group (3, 0) Test Accuracy: 0.0\n",
      "Group (3, 1) Test Accuracy: 0.0\n",
      "Group (3, 2) Test Accuracy: 0.0\n",
      "Group (3, 3) Test Accuracy: 100.0\n",
      "Group (3, 4) Test Accuracy: 0.0\n",
      "Group (4, 0) Test Accuracy: 0.0\n",
      "Group (4, 1) Test Accuracy: 0.0\n",
      "Group (4, 2) Test Accuracy: 0.0\n",
      "Group (4, 3) Test Accuracy: 0.0\n",
      "Group (4, 4) Test Accuracy: 100.0\n"
     ]
    },
    {
     "data": {
      "text/plain": [
       "{(0, 0): 100.0,\n",
       " (0, 1): 0.0,\n",
       " (0, 2): 0.0,\n",
       " (0, 3): 0.0,\n",
       " (0, 4): 0.0,\n",
       " (1, 0): 0.0,\n",
       " (1, 1): 100.0,\n",
       " (1, 2): 0.0,\n",
       " (1, 3): 0.0,\n",
       " (1, 4): 0.0,\n",
       " (2, 0): 0.0,\n",
       " (2, 1): 0.0,\n",
       " (2, 2): 100.0,\n",
       " (2, 3): 0.0,\n",
       " (2, 4): 0.0,\n",
       " (3, 0): 0.0,\n",
       " (3, 1): 0.0,\n",
       " (3, 2): 0.0,\n",
       " (3, 3): 100.0,\n",
       " (3, 4): 0.0,\n",
       " (4, 0): 0.0,\n",
       " (4, 1): 0.0,\n",
       " (4, 2): 0.0,\n",
       " (4, 3): 0.0,\n",
       " (4, 4): 100.0}"
      ]
     },
     "execution_count": 22,
     "metadata": {},
     "output_type": "execute_result"
    }
   ],
   "source": [
    "from spuco.evaluate import Evaluator \n",
    "\n",
    "evaluator = Evaluator(\n",
    "    testset=testset,\n",
    "    group_partition=testset.group_partition,\n",
    "    group_weights=trainset.group_weights,\n",
    "    batch_size=64,\n",
    "    model=model,\n",
    "    device=device,\n",
    "    verbose=True\n",
    ")\n",
    "evaluator.evaluate()"
   ]
  },
  {
   "cell_type": "code",
   "execution_count": 24,
   "metadata": {},
   "outputs": [
    {
     "name": "stderr",
     "output_type": "stream",
     "text": [
      "Getting Trainset Outputs: 100%|██████████| 938/938 [00:00<00:00, 1047.66batch/s]\n",
      "Clustering class-wise: 100%|██████████| 5/5 [00:13<00:00,  2.68s/it]\n"
     ]
    }
   ],
   "source": [
    "from spuco.group_inference import Cluster, ClusterAlg\n",
    "\n",
    "logits = trainer.get_trainset_outputs()\n",
    "cluster = Cluster(\n",
    "    Z=logits,\n",
    "    class_labels=trainset.labels,\n",
    "    cluster_alg=ClusterAlg.KMEANS,\n",
    "    num_clusters=2,\n",
    "    device=device,\n",
    "    verbose=True\n",
    ")\n",
    "group_partition = cluster.infer_groups()"
   ]
  },
  {
   "cell_type": "code",
   "execution_count": 25,
   "metadata": {},
   "outputs": [
    {
     "name": "stdout",
     "output_type": "stream",
     "text": [
      "(0, 0) 12598\n",
      "(0, 1) 67\n",
      "(1, 0) 12055\n",
      "(1, 1) 34\n",
      "(2, 0) 11218\n",
      "(2, 1) 45\n",
      "(3, 0) 12134\n",
      "(3, 1) 49\n",
      "(4, 0) 11757\n",
      "(4, 1) 43\n"
     ]
    }
   ],
   "source": [
    "for key in sorted(group_partition.keys()):\n",
    "    print(key, len(group_partition[key]))"
   ]
  },
  {
   "cell_type": "code",
   "execution_count": 26,
   "metadata": {},
   "outputs": [
    {
     "name": "stdout",
     "output_type": "stream",
     "text": [
      "Group (0, 0) Test Accuracy: 99.99206223210034\n",
      "Group (0, 1) Test Accuracy: 0.0\n",
      "Group (1, 0) Test Accuracy: 99.8257984238905\n",
      "Group (1, 1) Test Accuracy: 0.0\n",
      "Group (2, 0) Test Accuracy: 99.91085755036548\n",
      "Group (2, 1) Test Accuracy: 0.0\n",
      "Group (3, 0) Test Accuracy: 99.92582825119499\n",
      "Group (3, 1) Test Accuracy: 0.0\n",
      "Group (4, 0) Test Accuracy: 99.87241643276346\n",
      "Group (4, 1) Test Accuracy: 0.0\n"
     ]
    },
    {
     "data": {
      "text/plain": [
       "{(0, 0): 99.99206223210034,\n",
       " (0, 1): 0.0,\n",
       " (1, 0): 99.8257984238905,\n",
       " (1, 1): 0.0,\n",
       " (2, 0): 99.91085755036548,\n",
       " (2, 1): 0.0,\n",
       " (3, 0): 99.92582825119499,\n",
       " (3, 1): 0.0,\n",
       " (4, 0): 99.87241643276346,\n",
       " (4, 1): 0.0}"
      ]
     },
     "execution_count": 26,
     "metadata": {},
     "output_type": "execute_result"
    }
   ],
   "source": [
    "from spuco.evaluate import Evaluator \n",
    "\n",
    "evaluator = Evaluator(\n",
    "    testset=trainset,\n",
    "    group_partition=group_partition,\n",
    "    group_weights=trainset.group_weights,\n",
    "    batch_size=64,\n",
    "    model=model,\n",
    "    device=device,\n",
    "    verbose=True\n",
    ")\n",
    "evaluator.evaluate()"
   ]
  },
  {
   "cell_type": "code",
   "execution_count": 33,
   "metadata": {},
   "outputs": [
    {
     "name": "stderr",
     "output_type": "stream",
     "text": [
      "Epoch 0: 100%|██████████| 938/938 [00:03<00:00, 286.31batch/s, accuracy=68.75%, loss=1.3]   \n",
      "Epoch 1: 100%|██████████| 938/938 [00:03<00:00, 282.94batch/s, accuracy=65.625%, loss=0.894] \n",
      "Epoch 2: 100%|██████████| 938/938 [00:03<00:00, 288.93batch/s, accuracy=78.125%, loss=0.533] \n",
      "Epoch 3: 100%|██████████| 938/938 [00:03<00:00, 285.72batch/s, accuracy=100.0%, loss=0.0842]  \n",
      "Epoch 4: 100%|██████████| 938/938 [00:03<00:00, 286.79batch/s, accuracy=100.0%, loss=0.0219]  \n"
     ]
    }
   ],
   "source": [
    "from torch.optim import SGD\n",
    "from spuco.invariant_train import GroupBalanceBatchERM, ClassBalanceBatchERM\n",
    "from spuco.models import model_factory \n",
    "\n",
    "model = model_factory(\"lenet\", trainset[0][0].shape, trainset.num_classes).to(device)\n",
    "group_balance_erm = GroupBalanceBatchERM(\n",
    "    model=model,\n",
    "    num_epochs=5,\n",
    "    trainset=trainset,\n",
    "    group_partition=group_partition,\n",
    "    batch_size=64,\n",
    "    optimizer=SGD(model.parameters(), lr=1e-3, weight_decay=5e-4, momentum=0.9, nesterov=True),\n",
    "    device=device,\n",
    "    verbose=True\n",
    ")\n",
    "group_balance_erm.train()"
   ]
  },
  {
   "cell_type": "code",
   "execution_count": 34,
   "metadata": {},
   "outputs": [
    {
     "name": "stdout",
     "output_type": "stream",
     "text": [
      "Group (0, 0) Test Accuracy: 99.05437352245863\n",
      "Group (0, 1) Test Accuracy: 60.283687943262414\n",
      "Group (0, 2) Test Accuracy: 74.94089834515367\n",
      "Group (0, 3) Test Accuracy: 69.03073286052009\n",
      "Group (0, 4) Test Accuracy: 78.01418439716312\n",
      "Group (1, 0) Test Accuracy: 64.05867970660147\n",
      "Group (1, 1) Test Accuracy: 97.31051344743277\n",
      "Group (1, 2) Test Accuracy: 66.66666666666667\n",
      "Group (1, 3) Test Accuracy: 68.38235294117646\n",
      "Group (1, 4) Test Accuracy: 64.95098039215686\n",
      "Group (2, 0) Test Accuracy: 74.13333333333334\n",
      "Group (2, 1) Test Accuracy: 56.0\n",
      "Group (2, 2) Test Accuracy: 98.66666666666667\n",
      "Group (2, 3) Test Accuracy: 9.6\n",
      "Group (2, 4) Test Accuracy: 48.663101604278076\n",
      "Group (3, 0) Test Accuracy: 80.40201005025126\n",
      "Group (3, 1) Test Accuracy: 74.3073047858942\n",
      "Group (3, 2) Test Accuracy: 7.8085642317380355\n",
      "Group (3, 3) Test Accuracy: 97.98488664987406\n",
      "Group (3, 4) Test Accuracy: 72.544080604534\n",
      "Group (4, 0) Test Accuracy: 12.090680100755668\n",
      "Group (4, 1) Test Accuracy: 74.05541561712846\n",
      "Group (4, 2) Test Accuracy: 29.974811083123427\n",
      "Group (4, 3) Test Accuracy: 87.87878787878788\n",
      "Group (4, 4) Test Accuracy: 98.23232323232324\n"
     ]
    },
    {
     "data": {
      "text/plain": [
       "{(0, 0): 99.05437352245863,\n",
       " (0, 1): 60.283687943262414,\n",
       " (0, 2): 74.94089834515367,\n",
       " (0, 3): 69.03073286052009,\n",
       " (0, 4): 78.01418439716312,\n",
       " (1, 0): 64.05867970660147,\n",
       " (1, 1): 97.31051344743277,\n",
       " (1, 2): 66.66666666666667,\n",
       " (1, 3): 68.38235294117646,\n",
       " (1, 4): 64.95098039215686,\n",
       " (2, 0): 74.13333333333334,\n",
       " (2, 1): 56.0,\n",
       " (2, 2): 98.66666666666667,\n",
       " (2, 3): 9.6,\n",
       " (2, 4): 48.663101604278076,\n",
       " (3, 0): 80.40201005025126,\n",
       " (3, 1): 74.3073047858942,\n",
       " (3, 2): 7.8085642317380355,\n",
       " (3, 3): 97.98488664987406,\n",
       " (3, 4): 72.544080604534,\n",
       " (4, 0): 12.090680100755668,\n",
       " (4, 1): 74.05541561712846,\n",
       " (4, 2): 29.974811083123427,\n",
       " (4, 3): 87.87878787878788,\n",
       " (4, 4): 98.23232323232324}"
      ]
     },
     "execution_count": 34,
     "metadata": {},
     "output_type": "execute_result"
    }
   ],
   "source": [
    "from spuco.evaluate import Evaluator\n",
    "\n",
    "evaluator = Evaluator(\n",
    "    testset=testset,\n",
    "    group_partition=testset.group_partition,\n",
    "    group_weights=trainset.group_weights,\n",
    "    batch_size=64,\n",
    "    model=model,\n",
    "    device=device,\n",
    "    verbose=True\n",
    ")\n",
    "evaluator.evaluate()"
   ]
  },
  {
   "cell_type": "code",
   "execution_count": 35,
   "metadata": {},
   "outputs": [
    {
     "data": {
      "text/plain": [
       "((3, 2), 7.8085642317380355)"
      ]
     },
     "execution_count": 35,
     "metadata": {},
     "output_type": "execute_result"
    }
   ],
   "source": [
    "evaluator.worst_group_accuracy"
   ]
  },
  {
   "cell_type": "code",
   "execution_count": 36,
   "metadata": {},
   "outputs": [
    {
     "data": {
      "text/plain": [
       "98.07091522661091"
      ]
     },
     "execution_count": 36,
     "metadata": {},
     "output_type": "execute_result"
    }
   ],
   "source": [
    "evaluator.average_accuracy"
   ]
  },
  {
   "cell_type": "code",
   "execution_count": 37,
   "metadata": {},
   "outputs": [
    {
     "data": {
      "text/plain": [
       "41.56"
      ]
     },
     "execution_count": 37,
     "metadata": {},
     "output_type": "execute_result"
    }
   ],
   "source": [
    "evaluator.evaluate_spurious_task()"
   ]
  }
 ],
 "metadata": {
  "kernelspec": {
   "display_name": "clip",
   "language": "python",
   "name": "python3"
  },
  "language_info": {
   "codemirror_mode": {
    "name": "ipython",
    "version": 3
   },
   "file_extension": ".py",
   "mimetype": "text/x-python",
   "name": "python",
   "nbconvert_exporter": "python",
   "pygments_lexer": "ipython3",
   "version": "3.8.5"
  },
  "orig_nbformat": 4
 },
 "nbformat": 4,
 "nbformat_minor": 2
}
