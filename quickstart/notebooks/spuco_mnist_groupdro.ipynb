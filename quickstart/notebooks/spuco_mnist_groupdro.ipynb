{
 "cells": [
  {
   "cell_type": "code",
   "execution_count": 1,
   "metadata": {},
   "outputs": [
    {
     "name": "stdout",
     "output_type": "stream",
     "text": [
      "Processing /home/hyang/SpuCo\n",
      "  Installing build dependencies ... \u001b[?25ldone\n",
      "\u001b[?25h  Getting requirements to build wheel ... \u001b[?25ldone\n",
      "\u001b[?25h  Installing backend dependencies ... \u001b[?25ldone\n",
      "\u001b[?25h  Preparing metadata (pyproject.toml) ... \u001b[?25ldone\n",
      "\u001b[?25hRequirement already satisfied: torch>=2.0.0 in /home/hyang/SpuCo/.conda/lib/python3.10/site-packages (from spuco==0.0.1) (2.0.1)\n",
      "Requirement already satisfied: matplotlib>=3.7.1 in /home/hyang/SpuCo/.conda/lib/python3.10/site-packages (from spuco==0.0.1) (3.7.1)\n",
      "Requirement already satisfied: wilds>=2.0.0 in /home/hyang/SpuCo/.conda/lib/python3.10/site-packages (from spuco==0.0.1) (2.0.0)\n",
      "Requirement already satisfied: setuptools>=61.0 in /home/hyang/SpuCo/.conda/lib/python3.10/site-packages (from spuco==0.0.1) (66.0.0)\n",
      "Requirement already satisfied: tqdm>=4.65.0 in /home/hyang/SpuCo/.conda/lib/python3.10/site-packages (from spuco==0.0.1) (4.65.0)\n",
      "Requirement already satisfied: numpy>=1.23.5 in /home/hyang/SpuCo/.conda/lib/python3.10/site-packages (from spuco==0.0.1) (1.24.3)\n",
      "Requirement already satisfied: torchvision>=0.15.1 in /home/hyang/SpuCo/.conda/lib/python3.10/site-packages (from spuco==0.0.1) (0.15.2)\n",
      "Requirement already satisfied: scikit-learn>=0.20.0 in /home/hyang/.local/lib/python3.10/site-packages (from spuco==0.0.1) (1.2.1)\n",
      "Requirement already satisfied: transformers>=3.5.0 in /home/hyang/SpuCo/.conda/lib/python3.10/site-packages (from spuco==0.0.1) (4.29.2)\n",
      "Requirement already satisfied: fonttools>=4.22.0 in /home/hyang/SpuCo/.conda/lib/python3.10/site-packages (from matplotlib>=3.7.1->spuco==0.0.1) (4.39.4)\n",
      "Requirement already satisfied: packaging>=20.0 in /home/hyang/SpuCo/.conda/lib/python3.10/site-packages (from matplotlib>=3.7.1->spuco==0.0.1) (23.1)\n",
      "Requirement already satisfied: kiwisolver>=1.0.1 in /home/hyang/SpuCo/.conda/lib/python3.10/site-packages (from matplotlib>=3.7.1->spuco==0.0.1) (1.4.4)\n",
      "Requirement already satisfied: python-dateutil>=2.7 in /home/hyang/SpuCo/.conda/lib/python3.10/site-packages (from matplotlib>=3.7.1->spuco==0.0.1) (2.8.2)\n",
      "Requirement already satisfied: pyparsing>=2.3.1 in /home/hyang/SpuCo/.conda/lib/python3.10/site-packages (from matplotlib>=3.7.1->spuco==0.0.1) (3.0.9)\n",
      "Requirement already satisfied: contourpy>=1.0.1 in /home/hyang/SpuCo/.conda/lib/python3.10/site-packages (from matplotlib>=3.7.1->spuco==0.0.1) (1.0.7)\n",
      "Requirement already satisfied: cycler>=0.10 in /home/hyang/SpuCo/.conda/lib/python3.10/site-packages (from matplotlib>=3.7.1->spuco==0.0.1) (0.11.0)\n",
      "Requirement already satisfied: pillow>=6.2.0 in /home/hyang/SpuCo/.conda/lib/python3.10/site-packages (from matplotlib>=3.7.1->spuco==0.0.1) (9.5.0)\n",
      "Requirement already satisfied: threadpoolctl>=2.0.0 in /home/hyang/.local/lib/python3.10/site-packages (from scikit-learn>=0.20.0->spuco==0.0.1) (3.1.0)\n",
      "Requirement already satisfied: scipy>=1.3.2 in /home/hyang/SpuCo/.conda/lib/python3.10/site-packages (from scikit-learn>=0.20.0->spuco==0.0.1) (1.10.1)\n",
      "Requirement already satisfied: joblib>=1.1.1 in /home/hyang/.local/lib/python3.10/site-packages (from scikit-learn>=0.20.0->spuco==0.0.1) (1.2.0)\n",
      "Requirement already satisfied: nvidia-cudnn-cu11==8.5.0.96 in /home/hyang/SpuCo/.conda/lib/python3.10/site-packages (from torch>=2.0.0->spuco==0.0.1) (8.5.0.96)\n",
      "Requirement already satisfied: nvidia-cufft-cu11==10.9.0.58 in /home/hyang/SpuCo/.conda/lib/python3.10/site-packages (from torch>=2.0.0->spuco==0.0.1) (10.9.0.58)\n",
      "Requirement already satisfied: triton==2.0.0 in /home/hyang/SpuCo/.conda/lib/python3.10/site-packages (from torch>=2.0.0->spuco==0.0.1) (2.0.0)\n",
      "Requirement already satisfied: nvidia-cuda-cupti-cu11==11.7.101 in /home/hyang/SpuCo/.conda/lib/python3.10/site-packages (from torch>=2.0.0->spuco==0.0.1) (11.7.101)\n",
      "Requirement already satisfied: sympy in /home/hyang/SpuCo/.conda/lib/python3.10/site-packages (from torch>=2.0.0->spuco==0.0.1) (1.12)\n",
      "Requirement already satisfied: nvidia-curand-cu11==10.2.10.91 in /home/hyang/SpuCo/.conda/lib/python3.10/site-packages (from torch>=2.0.0->spuco==0.0.1) (10.2.10.91)\n",
      "Requirement already satisfied: typing-extensions in /home/hyang/SpuCo/.conda/lib/python3.10/site-packages (from torch>=2.0.0->spuco==0.0.1) (4.5.0)\n",
      "Requirement already satisfied: nvidia-cusparse-cu11==11.7.4.91 in /home/hyang/SpuCo/.conda/lib/python3.10/site-packages (from torch>=2.0.0->spuco==0.0.1) (11.7.4.91)\n",
      "Requirement already satisfied: nvidia-nccl-cu11==2.14.3 in /home/hyang/SpuCo/.conda/lib/python3.10/site-packages (from torch>=2.0.0->spuco==0.0.1) (2.14.3)\n",
      "Requirement already satisfied: nvidia-cuda-nvrtc-cu11==11.7.99 in /home/hyang/SpuCo/.conda/lib/python3.10/site-packages (from torch>=2.0.0->spuco==0.0.1) (11.7.99)\n",
      "Requirement already satisfied: filelock in /home/hyang/.local/lib/python3.10/site-packages (from torch>=2.0.0->spuco==0.0.1) (3.9.0)\n",
      "Requirement already satisfied: networkx in /home/hyang/SpuCo/.conda/lib/python3.10/site-packages (from torch>=2.0.0->spuco==0.0.1) (3.1)\n",
      "Requirement already satisfied: nvidia-cusolver-cu11==11.4.0.1 in /home/hyang/SpuCo/.conda/lib/python3.10/site-packages (from torch>=2.0.0->spuco==0.0.1) (11.4.0.1)\n",
      "Requirement already satisfied: jinja2 in /home/hyang/.local/lib/python3.10/site-packages (from torch>=2.0.0->spuco==0.0.1) (3.1.2)\n",
      "Requirement already satisfied: nvidia-cuda-runtime-cu11==11.7.99 in /home/hyang/SpuCo/.conda/lib/python3.10/site-packages (from torch>=2.0.0->spuco==0.0.1) (11.7.99)\n",
      "Requirement already satisfied: nvidia-cublas-cu11==11.10.3.66 in /home/hyang/SpuCo/.conda/lib/python3.10/site-packages (from torch>=2.0.0->spuco==0.0.1) (11.10.3.66)\n",
      "Requirement already satisfied: nvidia-nvtx-cu11==11.7.91 in /home/hyang/SpuCo/.conda/lib/python3.10/site-packages (from torch>=2.0.0->spuco==0.0.1) (11.7.91)\n",
      "Requirement already satisfied: wheel in /home/hyang/SpuCo/.conda/lib/python3.10/site-packages (from nvidia-cublas-cu11==11.10.3.66->torch>=2.0.0->spuco==0.0.1) (0.38.4)\n",
      "Requirement already satisfied: cmake in /home/hyang/SpuCo/.conda/lib/python3.10/site-packages (from triton==2.0.0->torch>=2.0.0->spuco==0.0.1) (3.26.3)\n",
      "Requirement already satisfied: lit in /home/hyang/SpuCo/.conda/lib/python3.10/site-packages (from triton==2.0.0->torch>=2.0.0->spuco==0.0.1) (16.0.5)\n",
      "Requirement already satisfied: requests in /home/hyang/SpuCo/.conda/lib/python3.10/site-packages (from torchvision>=0.15.1->spuco==0.0.1) (2.30.0)\n",
      "Requirement already satisfied: regex!=2019.12.17 in /home/hyang/SpuCo/.conda/lib/python3.10/site-packages (from transformers>=3.5.0->spuco==0.0.1) (2023.5.5)\n",
      "Requirement already satisfied: huggingface-hub<1.0,>=0.14.1 in /home/hyang/SpuCo/.conda/lib/python3.10/site-packages (from transformers>=3.5.0->spuco==0.0.1) (0.14.1)\n",
      "Requirement already satisfied: tokenizers!=0.11.3,<0.14,>=0.11.1 in /home/hyang/SpuCo/.conda/lib/python3.10/site-packages (from transformers>=3.5.0->spuco==0.0.1) (0.13.3)\n",
      "Requirement already satisfied: pyyaml>=5.1 in /home/hyang/.local/lib/python3.10/site-packages (from transformers>=3.5.0->spuco==0.0.1) (6.0)\n",
      "Requirement already satisfied: pandas>=1.1.0 in /home/hyang/SpuCo/.conda/lib/python3.10/site-packages (from wilds>=2.0.0->spuco==0.0.1) (2.0.1)\n",
      "Requirement already satisfied: outdated>=0.2.0 in /home/hyang/SpuCo/.conda/lib/python3.10/site-packages (from wilds>=2.0.0->spuco==0.0.1) (0.2.2)\n",
      "Requirement already satisfied: ogb>=1.2.6 in /home/hyang/SpuCo/.conda/lib/python3.10/site-packages (from wilds>=2.0.0->spuco==0.0.1) (1.3.6)\n",
      "Requirement already satisfied: pytz>=2020.4 in /home/hyang/SpuCo/.conda/lib/python3.10/site-packages (from wilds>=2.0.0->spuco==0.0.1) (2023.3)\n",
      "Requirement already satisfied: fsspec in /home/hyang/SpuCo/.conda/lib/python3.10/site-packages (from huggingface-hub<1.0,>=0.14.1->transformers>=3.5.0->spuco==0.0.1) (2023.5.0)\n",
      "Requirement already satisfied: six>=1.12.0 in /home/hyang/SpuCo/.conda/lib/python3.10/site-packages (from ogb>=1.2.6->wilds>=2.0.0->spuco==0.0.1) (1.16.0)\n",
      "Requirement already satisfied: urllib3>=1.24.0 in /home/hyang/SpuCo/.conda/lib/python3.10/site-packages (from ogb>=1.2.6->wilds>=2.0.0->spuco==0.0.1) (2.0.2)\n",
      "Requirement already satisfied: littleutils in /home/hyang/SpuCo/.conda/lib/python3.10/site-packages (from outdated>=0.2.0->wilds>=2.0.0->spuco==0.0.1) (0.2.2)\n",
      "Requirement already satisfied: tzdata>=2022.1 in /home/hyang/SpuCo/.conda/lib/python3.10/site-packages (from pandas>=1.1.0->wilds>=2.0.0->spuco==0.0.1) (2023.3)\n",
      "Requirement already satisfied: MarkupSafe>=2.0 in /home/hyang/.local/lib/python3.10/site-packages (from jinja2->torch>=2.0.0->spuco==0.0.1) (2.1.2)\n",
      "Requirement already satisfied: charset-normalizer<4,>=2 in /home/hyang/SpuCo/.conda/lib/python3.10/site-packages (from requests->torchvision>=0.15.1->spuco==0.0.1) (3.1.0)\n",
      "Requirement already satisfied: certifi>=2017.4.17 in /home/hyang/SpuCo/.conda/lib/python3.10/site-packages (from requests->torchvision>=0.15.1->spuco==0.0.1) (2023.5.7)\n",
      "Requirement already satisfied: idna<4,>=2.5 in /home/hyang/SpuCo/.conda/lib/python3.10/site-packages (from requests->torchvision>=0.15.1->spuco==0.0.1) (3.4)\n",
      "Requirement already satisfied: mpmath>=0.19 in /home/hyang/SpuCo/.conda/lib/python3.10/site-packages (from sympy->torch>=2.0.0->spuco==0.0.1) (1.3.0)\n",
      "Building wheels for collected packages: spuco\n",
      "  Building wheel for spuco (pyproject.toml) ... \u001b[?25ldone\n",
      "\u001b[?25h  Created wheel for spuco: filename=spuco-0.0.1-py3-none-any.whl size=80928 sha256=22d91c6ed0249cc0beb978eec9393bdd68d40e3dbb5d1b98fd60ad90b7c605db\n",
      "  Stored in directory: /tmp/pip-ephem-wheel-cache-211j3ox4/wheels/16/2e/00/5bdefcfd7f850d6f19880ecdb4dd3f325f4b906bf004cd82e3\n",
      "Successfully built spuco\n",
      "Installing collected packages: spuco\n",
      "  Attempting uninstall: spuco\n",
      "    Found existing installation: spuco 0.0.1\n",
      "    Uninstalling spuco-0.0.1:\n",
      "      Successfully uninstalled spuco-0.0.1\n",
      "Successfully installed spuco-0.0.1\n",
      "Note: you may need to restart the kernel to use updated packages.\n"
     ]
    }
   ],
   "source": [
    "%pip install ../.."
   ]
  },
  {
   "cell_type": "code",
   "execution_count": 2,
   "metadata": {},
   "outputs": [],
   "source": [
    "import torch \n",
    "\n",
    "device = torch.device(\"cuda:3\")"
   ]
  },
  {
   "cell_type": "code",
   "execution_count": 3,
   "metadata": {},
   "outputs": [
    {
     "name": "stderr",
     "output_type": "stream",
     "text": [
      "/home/hyang/SpuCo/.conda/lib/python3.10/site-packages/tqdm/auto.py:21: TqdmWarning: IProgress not found. Please update jupyter and ipywidgets. See https://ipywidgets.readthedocs.io/en/stable/user_install.html\n",
      "  from .autonotebook import tqdm as notebook_tqdm\n"
     ]
    }
   ],
   "source": [
    "from spuco.datasets import SpuCoMNIST, SpuriousFeatureDifficulty\n",
    "import torchvision.transforms as T\n",
    "\n",
    "classes = [[0, 1], [2, 3], [4, 5], [6, 7], [8, 9]]\n",
    "difficulty = SpuriousFeatureDifficulty.MAGNITUDE_HARD\n",
    "\n",
    "trainset = SpuCoMNIST(\n",
    "    root=\"/data/mnist/\",\n",
    "    spurious_feature_difficulty=difficulty,\n",
    "    spurious_correlation_strength=0.995,\n",
    "    classes=classes,\n",
    "    split=\"train\"\n",
    ")\n",
    "trainset.initialize()\n",
    "\n",
    "testset = SpuCoMNIST(\n",
    "    root=\"/data/mnist/\",\n",
    "    spurious_feature_difficulty=difficulty,\n",
    "    classes=classes,\n",
    "    split=\"test\"\n",
    ")\n",
    "testset.initialize()"
   ]
  },
  {
   "cell_type": "code",
   "execution_count": 4,
   "metadata": {},
   "outputs": [
    {
     "data": {
      "image/png": "[encoded data removed]",
      "text/plain": [
       "<PIL.Image.Image image mode=RGB size=28x28>"
      ]
     },
     "execution_count": 4,
     "metadata": {},
     "output_type": "execute_result"
    }
   ],
   "source": [
    "T.ToPILImage()(trainset[1000][0]).resize((28,28))"
   ]
  },
  {
   "cell_type": "code",
   "execution_count": 5,
   "metadata": {},
   "outputs": [
    {
     "ename": "ImportError",
     "evalue": "cannot import name 'InvariantTrainsetWrapper' from 'spuco.invariant_train' (/home/hyang/SpuCo/.conda/lib/python3.10/site-packages/spuco/invariant_train/__init__.py)",
     "output_type": "error",
     "traceback": [
      "\u001b[0;31m---------------------------------------------------------------------------\u001b[0m",
      "\u001b[0;31mImportError\u001b[0m                               Traceback (most recent call last)",
      "Cell \u001b[0;32mIn[5], line 1\u001b[0m\n\u001b[0;32m----> 1\u001b[0m \u001b[39mfrom\u001b[39;00m \u001b[39mspuco\u001b[39;00m\u001b[39m.\u001b[39;00m\u001b[39minvariant_train\u001b[39;00m \u001b[39mimport\u001b[39;00m InvariantTrainsetWrapper\n\u001b[1;32m      2\u001b[0m invariant_trainset \u001b[39m=\u001b[39m InvariantTrainsetWrapper(trainset, trainset\u001b[39m.\u001b[39mgroup_partition)\n",
      "\u001b[0;31mImportError\u001b[0m: cannot import name 'InvariantTrainsetWrapper' from 'spuco.invariant_train' (/home/hyang/SpuCo/.conda/lib/python3.10/site-packages/spuco/invariant_train/__init__.py)"
     ]
    }
   ],
   "source": [
    "from spuco.invariant_train import InvariantTrainsetWrapper\n",
    "invariant_trainset = InvariantTrainsetWrapper(trainset, trainset.group_partition)"
   ]
  },
  {
   "cell_type": "code",
   "execution_count": null,
   "metadata": {},
   "outputs": [],
   "source": [
    "from torch.optim import SGD\n",
    "from spuco.models import MLP\n",
    "from spuco.invariant_train import GroupDRO\n",
    "\n",
    "model = MLP(3*28*28, len(classes)).to(device)\n",
    "group_dro = GroupDRO(\n",
    "    model=model,\n",
    "    num_epochs=5,\n",
    "    trainset=invariant_trainset,\n",
    "    batch_size=64,\n",
    "    optimizer=SGD(model.parameters(), lr=1e-3, momentum=0.9, nesterov=True),\n",
    "    device=device,\n",
    "    verbose=True\n",
    ")"
   ]
  },
  {
   "cell_type": "code",
   "execution_count": null,
   "metadata": {},
   "outputs": [
    {
     "name": "stderr",
     "output_type": "stream",
     "text": [
      "Epoch 0: 100%|██████████| 938/938 [00:21<00:00, 44.59batch/s, accuracy=96.875%, loss=0.322] \n",
      "Epoch 1: 100%|██████████| 938/938 [00:22<00:00, 42.12batch/s, accuracy=93.75%, loss=0.171]   \n",
      "Epoch 2: 100%|██████████| 938/938 [00:23<00:00, 39.86batch/s, accuracy=90.625%, loss=0.203]  \n",
      "Epoch 3: 100%|██████████| 938/938 [00:21<00:00, 43.27batch/s, accuracy=96.875%, loss=0.185]  \n",
      "Epoch 4: 100%|██████████| 938/938 [00:22<00:00, 41.73batch/s, accuracy=93.75%, loss=0.0813]  \n"
     ]
    }
   ],
   "source": [
    "group_dro.train()"
   ]
  },
  {
   "cell_type": "code",
   "execution_count": null,
   "metadata": {},
   "outputs": [
    {
     "name": "stdout",
     "output_type": "stream",
     "text": [
      "Group (0, 0) Test Accuracy: 99.05437352245863\n",
      "Group (0, 1) Test Accuracy: 91.725768321513\n",
      "Group (0, 2) Test Accuracy: 93.14420803782505\n",
      "Group (0, 3) Test Accuracy: 88.4160756501182\n",
      "Group (0, 4) Test Accuracy: 93.14420803782505\n",
      "Group (1, 0) Test Accuracy: 94.62102689486552\n",
      "Group (1, 1) Test Accuracy: 97.31051344743277\n",
      "Group (1, 2) Test Accuracy: 89.70588235294117\n",
      "Group (1, 3) Test Accuracy: 65.19607843137256\n",
      "Group (1, 4) Test Accuracy: 72.05882352941177\n",
      "Group (2, 0) Test Accuracy: 64.0\n",
      "Group (2, 1) Test Accuracy: 88.53333333333333\n",
      "Group (2, 2) Test Accuracy: 96.53333333333333\n",
      "Group (2, 3) Test Accuracy: 88.53333333333333\n",
      "Group (2, 4) Test Accuracy: 54.54545454545455\n",
      "Group (3, 0) Test Accuracy: 67.08542713567839\n",
      "Group (3, 1) Test Accuracy: 62.97229219143577\n",
      "Group (3, 2) Test Accuracy: 86.39798488664988\n",
      "Group (3, 3) Test Accuracy: 96.97732997481108\n",
      "Group (3, 4) Test Accuracy: 89.67254408060454\n",
      "Group (4, 0) Test Accuracy: 88.41309823677582\n",
      "Group (4, 1) Test Accuracy: 66.49874055415617\n",
      "Group (4, 2) Test Accuracy: 63.727959697733\n",
      "Group (4, 3) Test Accuracy: 89.39393939393939\n",
      "Group (4, 4) Test Accuracy: 98.23232323232324\n"
     ]
    },
    {
     "data": {
      "text/plain": [
       "{(0, 0): 99.05437352245863,\n",
       " (0, 1): 91.725768321513,\n",
       " (0, 2): 93.14420803782505,\n",
       " (0, 3): 88.4160756501182,\n",
       " (0, 4): 93.14420803782505,\n",
       " (1, 0): 94.62102689486552,\n",
       " (1, 1): 97.31051344743277,\n",
       " (1, 2): 89.70588235294117,\n",
       " (1, 3): 65.19607843137256,\n",
       " (1, 4): 72.05882352941177,\n",
       " (2, 0): 64.0,\n",
       " (2, 1): 88.53333333333333,\n",
       " (2, 2): 96.53333333333333,\n",
       " (2, 3): 88.53333333333333,\n",
       " (2, 4): 54.54545454545455,\n",
       " (3, 0): 67.08542713567839,\n",
       " (3, 1): 62.97229219143577,\n",
       " (3, 2): 86.39798488664988,\n",
       " (3, 3): 96.97732997481108,\n",
       " (3, 4): 89.67254408060454,\n",
       " (4, 0): 88.41309823677582,\n",
       " (4, 1): 66.49874055415617,\n",
       " (4, 2): 63.727959697733,\n",
       " (4, 3): 89.39393939393939,\n",
       " (4, 4): 98.23232323232324}"
      ]
     },
     "execution_count": 23,
     "metadata": {},
     "output_type": "execute_result"
    }
   ],
   "source": [
    "from spuco.evaluate import Evaluator\n",
    "\n",
    "evaluator = Evaluator(\n",
    "    testset=testset,\n",
    "    group_partition=testset.group_partition,\n",
    "    group_weights=trainset.group_weights,\n",
    "    batch_size=64,\n",
    "    model=model,\n",
    "    device=device,\n",
    "    verbose=True\n",
    ")\n",
    "evaluator.evaluate()"
   ]
  },
  {
   "cell_type": "code",
   "execution_count": null,
   "metadata": {},
   "outputs": [
    {
     "data": {
      "text/plain": [
       "((2, 4), 54.54545454545455)"
      ]
     },
     "execution_count": 27,
     "metadata": {},
     "output_type": "execute_result"
    }
   ],
   "source": [
    "evaluator.worst_group_accuracy"
   ]
  },
  {
   "cell_type": "code",
   "execution_count": null,
   "metadata": {},
   "outputs": [
    {
     "data": {
      "text/plain": [
       "97.55885932606213"
      ]
     },
     "execution_count": 28,
     "metadata": {},
     "output_type": "execute_result"
    }
   ],
   "source": [
    "evaluator.average_accuracy"
   ]
  },
  {
   "cell_type": "code",
   "execution_count": null,
   "metadata": {},
   "outputs": [
    {
     "data": {
      "text/plain": [
       "28.44"
      ]
     },
     "execution_count": 33,
     "metadata": {},
     "output_type": "execute_result"
    }
   ],
   "source": [
    "evaluator.evaluate_spurious_task()"
   ]
  },
  {
   "cell_type": "code",
   "execution_count": null,
   "metadata": {},
   "outputs": [],
   "source": [
    "import subprocess\n",
    "import sys\n",
    "import numpy as np\n",
    "def install(package):\n",
    "    subprocess.check_call([sys.executable, \"-m\", \"pip\", \"install\", package])\n",
    "install(\"../..\")\n",
    "import os\n",
    "import torch \n",
    "from spuco.datasets import SpuCoMNIST, SpuriousFeatureDifficulty\n",
    "import torchvision.transforms as T\n",
    "from spuco.datasets import GroupLabeledDatasetWrapper\n",
    "from torch.optim import SGD\n",
    "from spuco.invariant_train import GroupDRO\n",
    "from spuco.evaluate import Evaluator\n",
    "from spuco.models import model_factory \n",
    "from spuco.utils import set_seed\n",
    "\n",
    "\n",
    "device = torch.device(\"cuda:2\")\n",
    "# lrs = [1e-3]\n",
    "momentum = 0.9\n",
    "num_epochs = 50\n",
    "batch_size = 32\n",
    "combo=[(0.001,0.0001), (0.001,0.0005), (0.001,0.001),(0.001,0.005)]\n",
    "# weight_decays=[1e-4, 5e-4, 1e-3, 5e-3, 1e-2, 5e-2]\n",
    "feature_noise = 0\n",
    "label_noise = 0\n",
    "magnitude = [SpuriousFeatureDifficulty.MAGNITUDE_HARD]  \n",
    "# for lr in lrs:\n",
    "#     for weight_decay in weight_decays:\n",
    "for i in combo:\n",
    "        for difficulty in magnitude:\n",
    "\n",
    "            for seed in [1,2]:\n",
    "                lr = i[0]\n",
    "                weight_decay=i[1]\n",
    "                name = \"eval/groupdro_lr_{}_wd_{}_difficulty_{}_seed_{}\".format(lr, weight_decay, difficulty, seed)\n",
    "                if os.path.exists(name + '.npz'):\n",
    "                    continue\n",
    "                else:\n",
    "                    set_seed(seed)\n",
    "                    classes = [[0, 1], [2, 3], [4, 5], [6, 7], [8, 9]]\n",
    "                    trainset = SpuCoMNIST(\n",
    "                        root=\"/data/mnist/\",\n",
    "                        spurious_feature_difficulty=difficulty,\n",
    "                        core_feature_noise=feature_noise,\n",
    "                        label_noise = label_noise,\n",
    "                        spurious_correlation_strength=0.995,\n",
    "                        classes=classes,\n",
    "                        split=\"train\"\n",
    "                    )\n",
    "                    trainset.initialize()\n",
    "\n",
    "                    testset = SpuCoMNIST(\n",
    "                        root=\"/data/mnist/\",\n",
    "                        spurious_feature_difficulty=difficulty,\n",
    "                        classes=classes,\n",
    "                        split=\"test\"\n",
    "                    )\n",
    "                    testset.initialize()\n",
    "\n",
    "                    valset = SpuCoMNIST(\n",
    "                        root=\"/data/mnist/\",\n",
    "                        spurious_feature_difficulty=difficulty,\n",
    "                        classes=classes,\n",
    "                        split=\"val\"\n",
    "                    )\n",
    "                    valset.initialize()\n",
    "\n",
    "                    group_trainset = GroupLabeledDatasetWrapper(trainset, trainset.group_partition)\n",
    "\n",
    "                    model = model_factory(\"lenet\", trainset[0][0].shape, trainset.num_classes).to(device)\n",
    "                    group_dro = GroupDRO(\n",
    "                        model=model,\n",
    "                        num_epochs=num_epochs,\n",
    "                        trainset=group_trainset,\n",
    "                        valset=valset,\n",
    "                        batch_size=batch_size,\n",
    "                        optimizer=SGD(model.parameters(), lr=lr, momentum=momentum, nesterov=True, weight_decay=weight_decay),\n",
    "                        device=device,\n",
    "                        verbose=True\n",
    "                    )\n",
    "                    group_dro.train()\n",
    "                    model = group_dro.best_model\n",
    "\n",
    "                    evaluator = Evaluator(\n",
    "                        testset=testset,\n",
    "                        group_partition=testset.group_partition,\n",
    "                        group_weights=trainset.group_weights,\n",
    "                        batch_size=64,\n",
    "                        model=model,\n",
    "                        device=device,\n",
    "                        verbose=True\n",
    "                    )\n",
    "                    evaluator.evaluate()\n",
    "\n",
    "                    np.savez(\"eval/groupdro_lr_{}_wd_{}_difficulty_{}_seed_{}\".format(lr, weight_decay, difficulty, seed), worst_acc=evaluator.worst_group_accuracy[1], ave_acc=evaluator.average_accuracy)"
   ]
  }
 ],
 "metadata": {
  "kernelspec": {
   "display_name": "clip",
   "language": "python",
   "name": "python3"
  },
  "language_info": {
   "codemirror_mode": {
    "name": "ipython",
    "version": 3
   },
   "file_extension": ".py",
   "mimetype": "text/x-python",
   "name": "python",
   "nbconvert_exporter": "python",
   "pygments_lexer": "ipython3",
   "version": "3.10.11"
  },
  "orig_nbformat": 4
 },
 "nbformat": 4,
 "nbformat_minor": 2
}
