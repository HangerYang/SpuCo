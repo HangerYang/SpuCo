{
 "cells": [
  {
   "cell_type": "code",
   "execution_count": 1,
   "metadata": {},
   "outputs": [],
   "source": [
    "with open(\"run.sh\", \"w\") as f:\n",
    "    for lr in [1e-3, 1e-4, 1e-5]:\n",
    "        for wd in [1e-4, 5e-4, 1e-2, 1e-1, 1.0]:\n",
    "            f.write(\"python spuco_animals_erm.py --gpu 5 --arch cliprn50 --pretrained --num_epochs 100 --lr {} --weight_decay {}\\n\".format(lr, wd))"
   ]
  },
  {
   "cell_type": "code",
   "execution_count": null,
   "metadata": {},
   "outputs": [],
   "source": [
    "with open(\"run1.sh\", \"w\") as f:\n",
    "    for lr in [1e-3, 1e-4, 1e-5]:\n",
    "        for wd in [1e-4, 5e-4, 1e-2, 1e-1, 1.0]:\n",
    "            f.write(\"python spuco_animals_group_balance.py --gpu 5 --arch cliprn50 --pretrained --num_epochs 100 --lr {} --weight_decay {}\\n\".format(lr, wd))"
   ]
  },
  {
   "cell_type": "code",
   "execution_count": null,
   "metadata": {},
   "outputs": [],
   "source": [
    "with open(\"run2.sh\", \"w\") as f:\n",
    "    for lr in [1e-3, 1e-4, 1e-5]:\n",
    "        for wd in [1e-4, 5e-4, 1e-2, 1e-1, 1.0]:\n",
    "            f.write(\"python spuco_animals_groupdro.py --gpu 2 --arch cliprn50 --pretrained --num_epochs 100 --lr {} --weight_decay {}\\n\".format(lr, wd))"
   ]
  }
 ],
 "metadata": {
  "kernelspec": {
   "display_name": "spuco",
   "language": "python",
   "name": "python3"
  },
  "language_info": {
   "codemirror_mode": {
    "name": "ipython",
    "version": 3
   },
   "file_extension": ".py",
   "mimetype": "text/x-python",
   "name": "python",
   "nbconvert_exporter": "python",
   "pygments_lexer": "ipython3",
   "version": "3.10.0"
  }
 },
 "nbformat": 4,
 "nbformat_minor": 2
}
